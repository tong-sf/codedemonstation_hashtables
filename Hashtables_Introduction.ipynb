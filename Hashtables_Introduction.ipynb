{
 "cells": [
  {
   "cell_type": "markdown",
   "id": "6b662ad9",
   "metadata": {},
   "source": [
    "# Introduction - Hashtables"
   ]
  },
  {
   "cell_type": "code",
   "execution_count": 1,
   "id": "269891e1",
   "metadata": {},
   "outputs": [
    {
     "data": {
      "text/plain": [
       "[13776, 897305, 15609, 948002, 970629, 37020, 70420, 719094, 322424, 362007]"
      ]
     },
     "execution_count": 1,
     "metadata": {},
     "output_type": "execute_result"
    }
   ],
   "source": [
    "import numpy as np\n",
    "n = 5_000_000\n",
    "data = list(np.random.randint(low=0,high=1_000_000,size=n))\n",
    "data[0:10]"
   ]
  },
  {
   "cell_type": "markdown",
   "id": "762a11a0",
   "metadata": {},
   "source": [
    "## Linear Search"
   ]
  },
  {
   "cell_type": "code",
   "execution_count": 2,
   "id": "99e0d195",
   "metadata": {},
   "outputs": [],
   "source": [
    "def linear_search(data, x):\n",
    "    for item in data:\n",
    "        if item == x:\n",
    "            return True\n",
    "        \n",
    "    return False"
   ]
  },
  {
   "cell_type": "markdown",
   "id": "05b14e92",
   "metadata": {},
   "source": [
    "### Search for one integer"
   ]
  },
  {
   "cell_type": "code",
   "execution_count": 3,
   "id": "bfd7cfbc",
   "metadata": {},
   "outputs": [
    {
     "name": "stdout",
     "output_type": "stream",
     "text": [
      "CPU times: user 39.9 ms, sys: 1.53 ms, total: 41.4 ms\n",
      "Wall time: 40.1 ms\n"
     ]
    }
   ],
   "source": [
    "x = %time linear_search(data, 999)"
   ]
  },
  {
   "cell_type": "markdown",
   "id": "e7957e10",
   "metadata": {},
   "source": [
    "### Search for multiple integers"
   ]
  },
  {
   "cell_type": "code",
   "execution_count": 4,
   "id": "43f3c24c",
   "metadata": {},
   "outputs": [
    {
     "name": "stdout",
     "output_type": "stream",
     "text": [
      "CPU times: user 5.68 s, sys: 25.6 ms, total: 5.71 s\n",
      "Wall time: 5.71 s\n"
     ]
    }
   ],
   "source": [
    "%time for x in range(50): linear_search(data, x)"
   ]
  },
  {
   "cell_type": "markdown",
   "id": "a466990a",
   "metadata": {},
   "source": [
    "### Hashtables and Hashsearch Implementation"
   ]
  },
  {
   "cell_type": "code",
   "execution_count": 5,
   "id": "78ffccb4",
   "metadata": {},
   "outputs": [],
   "source": [
    "def hash_code(x):\n",
    "    return x % 10  # put x into one of 10 possible buckets\n",
    "\n",
    "\n",
    "def hash_table(data):\n",
    "    buckets = [[] for i in range(10)]  # create 10 empty buckets\n",
    "    for d in data:\n",
    "        buckets[hash_code(d)].append(d)  # partition the integers into 10 buckets based on its hashcode\n",
    "    return buckets\n",
    "\n",
    "\n",
    "def hash_search(buckets, x):\n",
    "    i = hash_code(x)\n",
    "    for a in buckets[i]:\n",
    "        if a == x:\n",
    "            return True\n",
    "    return False"
   ]
  },
  {
   "cell_type": "markdown",
   "id": "899cb727",
   "metadata": {},
   "source": [
    "### STEP 1: create buckets from the data"
   ]
  },
  {
   "cell_type": "code",
   "execution_count": 6,
   "id": "66480296",
   "metadata": {},
   "outputs": [],
   "source": [
    "buckets = hash_table(data)  # STEP 1: create buckets from the data"
   ]
  },
  {
   "cell_type": "markdown",
   "id": "373c91c2",
   "metadata": {},
   "source": [
    "### STEP 2: perform hash search for one integer"
   ]
  },
  {
   "cell_type": "code",
   "execution_count": 7,
   "id": "ad74cae0",
   "metadata": {},
   "outputs": [
    {
     "name": "stdout",
     "output_type": "stream",
     "text": [
      "CPU times: user 1.88 ms, sys: 1 µs, total: 1.88 ms\n",
      "Wall time: 1.88 ms\n"
     ]
    },
    {
     "data": {
      "text/plain": [
       "True"
      ]
     },
     "execution_count": 7,
     "metadata": {},
     "output_type": "execute_result"
    }
   ],
   "source": [
    "%time hash_search(buckets, 999)  # STEP 2: perform hash search for one integer"
   ]
  },
  {
   "cell_type": "markdown",
   "id": "da5cb9fa",
   "metadata": {},
   "source": [
    "### STEP 3: perform hash search for multiple integers"
   ]
  },
  {
   "cell_type": "code",
   "execution_count": 8,
   "id": "58584465",
   "metadata": {},
   "outputs": [
    {
     "name": "stdout",
     "output_type": "stream",
     "text": [
      "CPU times: user 573 ms, sys: 8.24 ms, total: 581 ms\n",
      "Wall time: 580 ms\n"
     ]
    }
   ],
   "source": [
    "%time for x in range(50): hash_search(buckets, x) # STEP 3: perform hash search for multiple integers"
   ]
  },
  {
   "cell_type": "markdown",
   "id": "b577fed3",
   "metadata": {},
   "source": [
    "#### Multiple Integers Search Time:\n",
    "#### Linear Search: 5.71 s\n",
    "#### After Implementing Hashtables: 580 ms"
   ]
  },
  {
   "cell_type": "code",
   "execution_count": null,
   "id": "73b4ee16",
   "metadata": {},
   "outputs": [],
   "source": []
  }
 ],
 "metadata": {
  "kernelspec": {
   "display_name": "Python 3 (ipykernel)",
   "language": "python",
   "name": "python3"
  },
  "language_info": {
   "codemirror_mode": {
    "name": "ipython",
    "version": 3
   },
   "file_extension": ".py",
   "mimetype": "text/x-python",
   "name": "python",
   "nbconvert_exporter": "python",
   "pygments_lexer": "ipython3",
   "version": "3.8.11"
  }
 },
 "nbformat": 4,
 "nbformat_minor": 5
}
